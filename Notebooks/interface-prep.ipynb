{
 "cells": [
  {
   "cell_type": "code",
   "execution_count": 1,
   "metadata": {},
   "outputs": [],
   "source": [
    "from rdkit import Chem\n",
    "from rdkit.Chem import AllChem\n",
    "from IPython.display import SVG"
   ]
  },
  {
   "cell_type": "code",
   "execution_count": 6,
   "metadata": {},
   "outputs": [],
   "source": [
    "mol = Chem.MolFromSmiles('O=C(O)C1CCOc2ccc(Cl)cc21')\n",
    "\n",
    "# Make product svg\n",
    "#NB compute coords!!!\n",
    "drawer = Chem.Draw.rdMolDraw2D.MolDraw2DSVG(900, 200)\n",
    "drawer.SetFontSize(12)       \n",
    "opts = drawer.drawOptions()        \n",
    "opts.bgColor = None\n",
    "opts.clearBackground = False\n",
    "# opts.bondLineWidth = 0.5\n",
    "\n",
    "# Sort out coords\n",
    "# AllChem.Compute2DCoords(mol)\n",
    "drawer.DrawMolecule(mol)\n",
    "drawer.FinishDrawing()\n",
    "\n",
    "svg = drawer.GetDrawingText()\n",
    "#svg2 = svg.replace('svg:','')\n",
    "# need this to render on browser\n",
    "# svg2 = svg.replace('xmlns:svg=\"http://www.w3.org/2000/svg', 'xmlns=\"http://www.w3.org/2000/svg')\n",
    "#svg3 = SVG(svg)\n",
    "\n",
    "with open('/home/warren/XChem_projects/car-django-react/Test_DB_files/Test.svg', 'w') as f:\n",
    "    f.write(svg)\n"
   ]
  },
  {
   "cell_type": "code",
   "execution_count": 5,
   "metadata": {},
   "outputs": [
    {
     "data": {
      "text/plain": [
       "\"<?xml version='1.0' encoding='iso-8859-1'?>\\n<svg version='1.1' baseProfile='full'\\n              xmlns='http://www.w3.org/2000/svg'\\n                      xmlns:rdkit='http://www.rdkit.org/xml'\\n                      xmlns:xlink='http://www.w3.org/1999/xlink'\\n                  xml:space='preserve'\\nwidth='900px' height='200px' viewBox='0 0 900 200'>\\n<!-- END OF HEADER -->\\n<path class='bond-0' d='M 419.834,173.14 L 408.469,158.485' style='fill:none;fill-rule:evenodd;stroke:#FF0000;stroke-width:2.0px;stroke-linecap:butt;stroke-linejoin:miter;stroke-opacity:1' />\\n<path class='bond-0' d='M 408.469,158.485 L 397.104,143.83' style='fill:none;fill-rule:evenodd;stroke:#000000;stroke-width:2.0px;stroke-linecap:butt;stroke-linejoin:miter;stroke-opacity:1' />\\n<path class='bond-0' d='M 412.387,178.916 L 401.022,164.26' style='fill:none;fill-rule:evenodd;stroke:#FF0000;stroke-width:2.0px;stroke-linecap:butt;stroke-linejoin:miter;stroke-opacity:1' />\\n<path class='bond-0' d='M 401.022,164.26 L 389.657,149.605' style='fill:none;fill-rule:evenodd;stroke:#000000;stroke-width:2.0px;stroke-linecap:butt;stroke-linejoin:miter;stroke-opacity:1' />\\n<path class='bond-1' d='M 393.38,146.717 L 373.689,149.412' style='fill:none;fill-rule:evenodd;stroke:#000000;stroke-width:2.0px;stroke-linecap:butt;stroke-linejoin:miter;stroke-opacity:1' />\\n<path class='bond-1' d='M 373.689,149.412 L 353.998,152.107' style='fill:none;fill-rule:evenodd;stroke:#FF0000;stroke-width:2.0px;stroke-linecap:butt;stroke-linejoin:miter;stroke-opacity:1' />\\n<path class='bond-2' d='M 393.38,146.717 L 411.19,103.091' style='fill:none;fill-rule:evenodd;stroke:#000000;stroke-width:2.0px;stroke-linecap:butt;stroke-linejoin:miter;stroke-opacity:1' />\\n<path class='bond-3' d='M 411.19,103.091 L 382.313,65.8544' style='fill:none;fill-rule:evenodd;stroke:#000000;stroke-width:2.0px;stroke-linecap:butt;stroke-linejoin:miter;stroke-opacity:1' />\\n<path class='bond-13' d='M 411.19,103.091 L 457.876,96.7016' style='fill:none;fill-rule:evenodd;stroke:#000000;stroke-width:2.0px;stroke-linecap:butt;stroke-linejoin:miter;stroke-opacity:1' />\\n<path class='bond-4' d='M 382.313,65.8544 L 400.123,22.2282' style='fill:none;fill-rule:evenodd;stroke:#000000;stroke-width:2.0px;stroke-linecap:butt;stroke-linejoin:miter;stroke-opacity:1' />\\n<path class='bond-5' d='M 400.123,22.2282 L 419.814,19.5332' style='fill:none;fill-rule:evenodd;stroke:#000000;stroke-width:2.0px;stroke-linecap:butt;stroke-linejoin:miter;stroke-opacity:1' />\\n<path class='bond-5' d='M 419.814,19.5332 L 439.505,16.8383' style='fill:none;fill-rule:evenodd;stroke:#FF0000;stroke-width:2.0px;stroke-linecap:butt;stroke-linejoin:miter;stroke-opacity:1' />\\n<path class='bond-6' d='M 453.116,23.9719 L 464.401,38.5236' style='fill:none;fill-rule:evenodd;stroke:#FF0000;stroke-width:2.0px;stroke-linecap:butt;stroke-linejoin:miter;stroke-opacity:1' />\\n<path class='bond-6' d='M 464.401,38.5236 L 475.686,53.0754' style='fill:none;fill-rule:evenodd;stroke:#000000;stroke-width:2.0px;stroke-linecap:butt;stroke-linejoin:miter;stroke-opacity:1' />\\n<path class='bond-7' d='M 475.686,53.0754 L 522.372,46.6859' style='fill:none;fill-rule:evenodd;stroke:#000000;stroke-width:2.0px;stroke-linecap:butt;stroke-linejoin:miter;stroke-opacity:1' />\\n<path class='bond-7' d='M 483.967,61.4542 L 516.647,56.9816' style='fill:none;fill-rule:evenodd;stroke:#000000;stroke-width:2.0px;stroke-linecap:butt;stroke-linejoin:miter;stroke-opacity:1' />\\n<path class='bond-14' d='M 475.686,53.0754 L 457.876,96.7016' style='fill:none;fill-rule:evenodd;stroke:#000000;stroke-width:2.0px;stroke-linecap:butt;stroke-linejoin:miter;stroke-opacity:1' />\\n<path class='bond-8' d='M 522.372,46.6859 L 551.249,83.9227' style='fill:none;fill-rule:evenodd;stroke:#000000;stroke-width:2.0px;stroke-linecap:butt;stroke-linejoin:miter;stroke-opacity:1' />\\n<path class='bond-9' d='M 551.249,83.9227 L 533.439,127.549' style='fill:none;fill-rule:evenodd;stroke:#000000;stroke-width:2.0px;stroke-linecap:butt;stroke-linejoin:miter;stroke-opacity:1' />\\n<path class='bond-9' d='M 539.852,86.9047 L 527.385,117.443' style='fill:none;fill-rule:evenodd;stroke:#000000;stroke-width:2.0px;stroke-linecap:butt;stroke-linejoin:miter;stroke-opacity:1' />\\n<path class='bond-10' d='M 533.439,127.549 L 544.961,142.407' style='fill:none;fill-rule:evenodd;stroke:#000000;stroke-width:2.0px;stroke-linecap:butt;stroke-linejoin:miter;stroke-opacity:1' />\\n<path class='bond-10' d='M 544.961,142.407 L 556.483,157.265' style='fill:none;fill-rule:evenodd;stroke:#00CC00;stroke-width:2.0px;stroke-linecap:butt;stroke-linejoin:miter;stroke-opacity:1' />\\n<path class='bond-11' d='M 533.439,127.549 L 486.753,133.938' style='fill:none;fill-rule:evenodd;stroke:#000000;stroke-width:2.0px;stroke-linecap:butt;stroke-linejoin:miter;stroke-opacity:1' />\\n<path class='bond-12' d='M 486.753,133.938 L 457.876,96.7016' style='fill:none;fill-rule:evenodd;stroke:#000000;stroke-width:2.0px;stroke-linecap:butt;stroke-linejoin:miter;stroke-opacity:1' />\\n<path class='bond-12' d='M 489.869,122.577 L 469.655,96.5118' style='fill:none;fill-rule:evenodd;stroke:#000000;stroke-width:2.0px;stroke-linecap:butt;stroke-linejoin:miter;stroke-opacity:1' />\\n<path  class='atom-0' d='M 416.131 183.992\\nQ 416.131 180.787, 417.714 178.997\\nQ 419.298 177.206, 422.257 177.206\\nQ 425.216 177.206, 426.799 178.997\\nQ 428.383 180.787, 428.383 183.992\\nQ 428.383 187.234, 426.781 189.081\\nQ 425.178 190.909, 422.257 190.909\\nQ 419.316 190.909, 417.714 189.081\\nQ 416.131 187.252, 416.131 183.992\\nM 422.257 189.401\\nQ 424.293 189.401, 425.386 188.044\\nQ 426.498 186.668, 426.498 183.992\\nQ 426.498 181.372, 425.386 180.052\\nQ 424.293 178.714, 422.257 178.714\\nQ 420.221 178.714, 419.109 180.033\\nQ 418.016 181.353, 418.016 183.992\\nQ 418.016 186.687, 419.109 188.044\\nQ 420.221 189.401, 422.257 189.401\\n' fill='#FF0000'/>\\n<path  class='atom-2' d='M 329.184 146.51\\nL 330.993 146.51\\nL 330.993 152.183\\nL 337.816 152.183\\nL 337.816 146.51\\nL 339.626 146.51\\nL 339.626 159.855\\nL 337.816 159.855\\nL 337.816 153.691\\nL 330.993 153.691\\nL 330.993 159.855\\nL 329.184 159.855\\nL 329.184 146.51\\n' fill='#FF0000'/>\\n<path  class='atom-2' d='M 340.568 153.144\\nQ 340.568 149.94, 342.152 148.15\\nQ 343.735 146.359, 346.694 146.359\\nQ 349.653 146.359, 351.237 148.15\\nQ 352.82 149.94, 352.82 153.144\\nQ 352.82 156.386, 351.218 158.234\\nQ 349.616 160.062, 346.694 160.062\\nQ 343.754 160.062, 342.152 158.234\\nQ 340.568 156.405, 340.568 153.144\\nM 346.694 158.554\\nQ 348.73 158.554, 349.823 157.197\\nQ 350.935 155.821, 350.935 153.144\\nQ 350.935 150.524, 349.823 149.205\\nQ 348.73 147.867, 346.694 147.867\\nQ 344.658 147.867, 343.546 149.186\\nQ 342.453 150.506, 342.453 153.144\\nQ 342.453 155.84, 343.546 157.197\\nQ 344.658 158.554, 346.694 158.554\\n' fill='#FF0000'/>\\n<path  class='atom-6' d='M 440.684 15.8764\\nQ 440.684 12.6721, 442.267 10.8815\\nQ 443.85 9.09091, 446.809 9.09091\\nQ 449.769 9.09091, 451.352 10.8815\\nQ 452.935 12.6721, 452.935 15.8764\\nQ 452.935 19.1183, 451.333 20.9655\\nQ 449.731 22.7938, 446.809 22.7938\\nQ 443.869 22.7938, 442.267 20.9655\\nQ 440.684 19.1372, 440.684 15.8764\\nM 446.809 21.2859\\nQ 448.845 21.2859, 449.938 19.9288\\nQ 451.05 18.5529, 451.05 15.8764\\nQ 451.05 13.2564, 449.938 11.937\\nQ 448.845 10.5988, 446.809 10.5988\\nQ 444.774 10.5988, 443.662 11.9182\\nQ 442.568 13.2376, 442.568 15.8764\\nQ 442.568 18.5717, 443.662 19.9288\\nQ 444.774 21.2859, 446.809 21.2859\\n' fill='#FF0000'/>\\n<path  class='atom-11' d='M 557.17 165.247\\nQ 557.17 161.93, 558.715 160.196\\nQ 560.28 158.443, 563.239 158.443\\nQ 565.991 158.443, 567.461 160.384\\nL 566.217 161.402\\nQ 565.143 159.989, 563.239 159.989\\nQ 561.222 159.989, 560.148 161.346\\nQ 559.092 162.684, 559.092 165.247\\nQ 559.092 167.886, 560.186 169.243\\nQ 561.298 170.6, 563.446 170.6\\nQ 564.917 170.6, 566.632 169.714\\nL 567.16 171.128\\nQ 566.462 171.58, 565.407 171.844\\nQ 564.351 172.108, 563.183 172.108\\nQ 560.28 172.108, 558.715 170.336\\nQ 557.17 168.565, 557.17 165.247\\n' fill='#00CC00'/>\\n<path  class='atom-11' d='M 569.082 157.633\\nL 570.816 157.633\\nL 570.816 171.939\\nL 569.082 171.939\\nL 569.082 157.633\\n' fill='#00CC00'/>\\n</svg>\\n\""
      ]
     },
     "execution_count": 5,
     "metadata": {},
     "output_type": "execute_result"
    }
   ],
   "source": [
    "svg"
   ]
  },
  {
   "cell_type": "code",
   "execution_count": null,
   "metadata": {},
   "outputs": [],
   "source": []
  }
 ],
 "metadata": {
  "kernelspec": {
   "display_name": "Python 3",
   "language": "python",
   "name": "python3"
  },
  "language_info": {
   "codemirror_mode": {
    "name": "ipython",
    "version": 3
   },
   "file_extension": ".py",
   "mimetype": "text/x-python",
   "name": "python",
   "nbconvert_exporter": "python",
   "pygments_lexer": "ipython3",
   "version": "3.7.9"
  }
 },
 "nbformat": 4,
 "nbformat_minor": 4
}
