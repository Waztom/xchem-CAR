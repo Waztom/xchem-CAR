{
 "cells": [
  {
   "cell_type": "code",
   "execution_count": 2,
   "metadata": {},
   "outputs": [],
   "source": [
    "from rdkit import Chem\n",
    "from rdkit.Chem import AllChem\n",
    "from IPython.display import SVG"
   ]
  },
  {
   "cell_type": "code",
   "execution_count": 15,
   "metadata": {},
   "outputs": [],
   "source": [
    "mol = Chem.MolFromSmiles('O=C(O)C1CCOc2ccc(Cl)cc21')\n",
    "\n",
    "# Make product svg\n",
    "#NB compute coords!!!\n",
    "drawer = Chem.Draw.rdMolDraw2D.MolDraw2DSVG(900, 200)\n",
    "drawer.SetFontSize(12)       \n",
    "opts = drawer.drawOptions()        \n",
    "opts.bgColor = None\n",
    "opts.clearBackground = False\n",
    "# opts.bondLineWidth = 0.5\n",
    "\n",
    "# Sort out coords\n",
    "AllChem.Compute2DCoords(mol)\n",
    "drawer.DrawMolecule(mol)\n",
    "drawer.FinishDrawing()\n",
    "\n",
    "svg = drawer.GetDrawingText()\n",
    "svg2 = svg.replace('svg:','')\n",
    "# need this to render on browser\n",
    "# svg2 = svg.replace('xmlns:svg=\"http://www.w3.org/2000/svg', 'xmlns=\"http://www.w3.org/2000/svg')\n",
    "svg3 = SVG(svg2)\n",
    "\n",
    "with open('/home/warren/XChem_projects/car-django-react/Test_DB_files/react5.svg', 'w') as f:\n",
    "    f.write(svg3.data)\n"
   ]
  },
  {
   "cell_type": "code",
   "execution_count": 16,
   "metadata": {},
   "outputs": [
    {
     "data": {
      "image/svg+xml": [
       "<svg baseProfile=\"full\" height=\"200px\" version=\"1.1\" viewBox=\"0 0 900 200\" width=\"900px\" xml:space=\"preserve\" xmlns=\"http://www.w3.org/2000/svg\" xmlns:rdkit=\"http://www.rdkit.org/xml\" xmlns:xlink=\"http://www.w3.org/1999/xlink\">\n",
       "<!-- END OF HEADER -->\n",
       "<path class=\"bond-0\" d=\"M 419.834,173.14 L 408.469,158.485\" style=\"fill:none;fill-rule:evenodd;stroke:#FF0000;stroke-width:2.0px;stroke-linecap:butt;stroke-linejoin:miter;stroke-opacity:1\"/>\n",
       "<path class=\"bond-0\" d=\"M 408.469,158.485 L 397.104,143.83\" style=\"fill:none;fill-rule:evenodd;stroke:#000000;stroke-width:2.0px;stroke-linecap:butt;stroke-linejoin:miter;stroke-opacity:1\"/>\n",
       "<path class=\"bond-0\" d=\"M 412.387,178.916 L 401.022,164.26\" style=\"fill:none;fill-rule:evenodd;stroke:#FF0000;stroke-width:2.0px;stroke-linecap:butt;stroke-linejoin:miter;stroke-opacity:1\"/>\n",
       "<path class=\"bond-0\" d=\"M 401.022,164.26 L 389.657,149.605\" style=\"fill:none;fill-rule:evenodd;stroke:#000000;stroke-width:2.0px;stroke-linecap:butt;stroke-linejoin:miter;stroke-opacity:1\"/>\n",
       "<path class=\"bond-1\" d=\"M 393.38,146.717 L 373.689,149.412\" style=\"fill:none;fill-rule:evenodd;stroke:#000000;stroke-width:2.0px;stroke-linecap:butt;stroke-linejoin:miter;stroke-opacity:1\"/>\n",
       "<path class=\"bond-1\" d=\"M 373.689,149.412 L 353.998,152.107\" style=\"fill:none;fill-rule:evenodd;stroke:#FF0000;stroke-width:2.0px;stroke-linecap:butt;stroke-linejoin:miter;stroke-opacity:1\"/>\n",
       "<path class=\"bond-2\" d=\"M 393.38,146.717 L 411.19,103.091\" style=\"fill:none;fill-rule:evenodd;stroke:#000000;stroke-width:2.0px;stroke-linecap:butt;stroke-linejoin:miter;stroke-opacity:1\"/>\n",
       "<path class=\"bond-3\" d=\"M 411.19,103.091 L 382.313,65.8544\" style=\"fill:none;fill-rule:evenodd;stroke:#000000;stroke-width:2.0px;stroke-linecap:butt;stroke-linejoin:miter;stroke-opacity:1\"/>\n",
       "<path class=\"bond-13\" d=\"M 411.19,103.091 L 457.876,96.7016\" style=\"fill:none;fill-rule:evenodd;stroke:#000000;stroke-width:2.0px;stroke-linecap:butt;stroke-linejoin:miter;stroke-opacity:1\"/>\n",
       "<path class=\"bond-4\" d=\"M 382.313,65.8544 L 400.123,22.2282\" style=\"fill:none;fill-rule:evenodd;stroke:#000000;stroke-width:2.0px;stroke-linecap:butt;stroke-linejoin:miter;stroke-opacity:1\"/>\n",
       "<path class=\"bond-5\" d=\"M 400.123,22.2282 L 419.814,19.5332\" style=\"fill:none;fill-rule:evenodd;stroke:#000000;stroke-width:2.0px;stroke-linecap:butt;stroke-linejoin:miter;stroke-opacity:1\"/>\n",
       "<path class=\"bond-5\" d=\"M 419.814,19.5332 L 439.505,16.8383\" style=\"fill:none;fill-rule:evenodd;stroke:#FF0000;stroke-width:2.0px;stroke-linecap:butt;stroke-linejoin:miter;stroke-opacity:1\"/>\n",
       "<path class=\"bond-6\" d=\"M 453.116,23.9719 L 464.401,38.5236\" style=\"fill:none;fill-rule:evenodd;stroke:#FF0000;stroke-width:2.0px;stroke-linecap:butt;stroke-linejoin:miter;stroke-opacity:1\"/>\n",
       "<path class=\"bond-6\" d=\"M 464.401,38.5236 L 475.686,53.0754\" style=\"fill:none;fill-rule:evenodd;stroke:#000000;stroke-width:2.0px;stroke-linecap:butt;stroke-linejoin:miter;stroke-opacity:1\"/>\n",
       "<path class=\"bond-7\" d=\"M 475.686,53.0754 L 522.372,46.6859\" style=\"fill:none;fill-rule:evenodd;stroke:#000000;stroke-width:2.0px;stroke-linecap:butt;stroke-linejoin:miter;stroke-opacity:1\"/>\n",
       "<path class=\"bond-7\" d=\"M 483.967,61.4542 L 516.647,56.9816\" style=\"fill:none;fill-rule:evenodd;stroke:#000000;stroke-width:2.0px;stroke-linecap:butt;stroke-linejoin:miter;stroke-opacity:1\"/>\n",
       "<path class=\"bond-14\" d=\"M 475.686,53.0754 L 457.876,96.7016\" style=\"fill:none;fill-rule:evenodd;stroke:#000000;stroke-width:2.0px;stroke-linecap:butt;stroke-linejoin:miter;stroke-opacity:1\"/>\n",
       "<path class=\"bond-8\" d=\"M 522.372,46.6859 L 551.249,83.9227\" style=\"fill:none;fill-rule:evenodd;stroke:#000000;stroke-width:2.0px;stroke-linecap:butt;stroke-linejoin:miter;stroke-opacity:1\"/>\n",
       "<path class=\"bond-9\" d=\"M 551.249,83.9227 L 533.439,127.549\" style=\"fill:none;fill-rule:evenodd;stroke:#000000;stroke-width:2.0px;stroke-linecap:butt;stroke-linejoin:miter;stroke-opacity:1\"/>\n",
       "<path class=\"bond-9\" d=\"M 539.852,86.9047 L 527.385,117.443\" style=\"fill:none;fill-rule:evenodd;stroke:#000000;stroke-width:2.0px;stroke-linecap:butt;stroke-linejoin:miter;stroke-opacity:1\"/>\n",
       "<path class=\"bond-10\" d=\"M 533.439,127.549 L 544.961,142.407\" style=\"fill:none;fill-rule:evenodd;stroke:#000000;stroke-width:2.0px;stroke-linecap:butt;stroke-linejoin:miter;stroke-opacity:1\"/>\n",
       "<path class=\"bond-10\" d=\"M 544.961,142.407 L 556.483,157.265\" style=\"fill:none;fill-rule:evenodd;stroke:#00CC00;stroke-width:2.0px;stroke-linecap:butt;stroke-linejoin:miter;stroke-opacity:1\"/>\n",
       "<path class=\"bond-11\" d=\"M 533.439,127.549 L 486.753,133.938\" style=\"fill:none;fill-rule:evenodd;stroke:#000000;stroke-width:2.0px;stroke-linecap:butt;stroke-linejoin:miter;stroke-opacity:1\"/>\n",
       "<path class=\"bond-12\" d=\"M 486.753,133.938 L 457.876,96.7016\" style=\"fill:none;fill-rule:evenodd;stroke:#000000;stroke-width:2.0px;stroke-linecap:butt;stroke-linejoin:miter;stroke-opacity:1\"/>\n",
       "<path class=\"bond-12\" d=\"M 489.869,122.577 L 469.655,96.5118\" style=\"fill:none;fill-rule:evenodd;stroke:#000000;stroke-width:2.0px;stroke-linecap:butt;stroke-linejoin:miter;stroke-opacity:1\"/>\n",
       "<path class=\"atom-0\" d=\"M 416.131 183.992 Q 416.131 180.787, 417.714 178.997 Q 419.298 177.206, 422.257 177.206 Q 425.216 177.206, 426.799 178.997 Q 428.383 180.787, 428.383 183.992 Q 428.383 187.234, 426.781 189.081 Q 425.178 190.909, 422.257 190.909 Q 419.316 190.909, 417.714 189.081 Q 416.131 187.252, 416.131 183.992 M 422.257 189.401 Q 424.293 189.401, 425.386 188.044 Q 426.498 186.668, 426.498 183.992 Q 426.498 181.372, 425.386 180.052 Q 424.293 178.714, 422.257 178.714 Q 420.221 178.714, 419.109 180.033 Q 418.016 181.353, 418.016 183.992 Q 418.016 186.687, 419.109 188.044 Q 420.221 189.401, 422.257 189.401 \" fill=\"#FF0000\"/>\n",
       "<path class=\"atom-2\" d=\"M 329.184 146.51 L 330.993 146.51 L 330.993 152.183 L 337.816 152.183 L 337.816 146.51 L 339.626 146.51 L 339.626 159.855 L 337.816 159.855 L 337.816 153.691 L 330.993 153.691 L 330.993 159.855 L 329.184 159.855 L 329.184 146.51 \" fill=\"#FF0000\"/>\n",
       "<path class=\"atom-2\" d=\"M 340.568 153.144 Q 340.568 149.94, 342.152 148.15 Q 343.735 146.359, 346.694 146.359 Q 349.653 146.359, 351.237 148.15 Q 352.82 149.94, 352.82 153.144 Q 352.82 156.386, 351.218 158.234 Q 349.616 160.062, 346.694 160.062 Q 343.754 160.062, 342.152 158.234 Q 340.568 156.405, 340.568 153.144 M 346.694 158.554 Q 348.73 158.554, 349.823 157.197 Q 350.935 155.821, 350.935 153.144 Q 350.935 150.524, 349.823 149.205 Q 348.73 147.867, 346.694 147.867 Q 344.658 147.867, 343.546 149.186 Q 342.453 150.506, 342.453 153.144 Q 342.453 155.84, 343.546 157.197 Q 344.658 158.554, 346.694 158.554 \" fill=\"#FF0000\"/>\n",
       "<path class=\"atom-6\" d=\"M 440.684 15.8764 Q 440.684 12.6721, 442.267 10.8815 Q 443.85 9.09091, 446.809 9.09091 Q 449.769 9.09091, 451.352 10.8815 Q 452.935 12.6721, 452.935 15.8764 Q 452.935 19.1183, 451.333 20.9655 Q 449.731 22.7938, 446.809 22.7938 Q 443.869 22.7938, 442.267 20.9655 Q 440.684 19.1372, 440.684 15.8764 M 446.809 21.2859 Q 448.845 21.2859, 449.938 19.9288 Q 451.05 18.5529, 451.05 15.8764 Q 451.05 13.2564, 449.938 11.937 Q 448.845 10.5988, 446.809 10.5988 Q 444.774 10.5988, 443.662 11.9182 Q 442.568 13.2376, 442.568 15.8764 Q 442.568 18.5717, 443.662 19.9288 Q 444.774 21.2859, 446.809 21.2859 \" fill=\"#FF0000\"/>\n",
       "<path class=\"atom-11\" d=\"M 557.17 165.247 Q 557.17 161.93, 558.715 160.196 Q 560.28 158.443, 563.239 158.443 Q 565.991 158.443, 567.461 160.384 L 566.217 161.402 Q 565.143 159.989, 563.239 159.989 Q 561.222 159.989, 560.148 161.346 Q 559.092 162.684, 559.092 165.247 Q 559.092 167.886, 560.186 169.243 Q 561.298 170.6, 563.446 170.6 Q 564.917 170.6, 566.632 169.714 L 567.16 171.128 Q 566.462 171.58, 565.407 171.844 Q 564.351 172.108, 563.183 172.108 Q 560.28 172.108, 558.715 170.336 Q 557.17 168.565, 557.17 165.247 \" fill=\"#00CC00\"/>\n",
       "<path class=\"atom-11\" d=\"M 569.082 157.633 L 570.816 157.633 L 570.816 171.939 L 569.082 171.939 L 569.082 157.633 \" fill=\"#00CC00\"/>\n",
       "</svg>"
      ],
      "text/plain": [
       "<IPython.core.display.SVG object>"
      ]
     },
     "execution_count": 16,
     "metadata": {},
     "output_type": "execute_result"
    }
   ],
   "source": [
    "svg3\n"
   ]
  },
  {
   "cell_type": "code",
   "execution_count": null,
   "metadata": {},
   "outputs": [],
   "source": []
  }
 ],
 "metadata": {
  "kernelspec": {
   "display_name": "Python 3",
   "language": "python",
   "name": "python3"
  },
  "language_info": {
   "codemirror_mode": {
    "name": "ipython",
    "version": 3
   },
   "file_extension": ".py",
   "mimetype": "text/x-python",
   "name": "python",
   "nbconvert_exporter": "python",
   "pygments_lexer": "ipython3",
   "version": "3.7.9"
  }
 },
 "nbformat": 4,
 "nbformat_minor": 4
}
