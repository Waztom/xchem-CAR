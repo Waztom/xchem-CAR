{
 "cells": [
  {
   "cell_type": "markdown",
   "metadata": {},
   "source": [
    "# Development of functions to: 1. Find retro steps for input smiles target. 2. Exctract info needed to populate DB models 3. Extract robotic action steps and populate DB"
   ]
  },
  {
   "cell_type": "code",
   "execution_count": 1,
   "metadata": {},
   "outputs": [],
   "source": [
    "from rdkit import Chem\n",
    "from rxn4chemistry import RXN4ChemistryWrapper\n",
    "import os\n",
    "import time"
   ]
  },
  {
   "cell_type": "code",
   "execution_count": 2,
   "metadata": {},
   "outputs": [
    {
     "data": {
      "text/plain": [
       "{'response': {'payload': {'id': '5fb7acaba965f9000133a783',\n",
       "   'metadata': {},\n",
       "   'embed': {},\n",
       "   'computedFields': {},\n",
       "   'createdOn': 1605872811326,\n",
       "   'createdBy': '5421668d-2db4-4064-a1e6-f77e33938145',\n",
       "   'modifiedOn': 1605872811326,\n",
       "   'modifiedBy': '5421668d-2db4-4064-a1e6-f77e33938145',\n",
       "   'name': 'Test actions',\n",
       "   'description': None,\n",
       "   'attempts': [],\n",
       "   'visibility': None},\n",
       "  'metadata': {'uiMessages': {'errors': [], 'infos': [], 'warnings': []},\n",
       "   'extendedPagination': {}}}}"
      ]
     },
     "execution_count": 2,
     "metadata": {},
     "output_type": "execute_result"
    }
   ],
   "source": [
    "# Setup IBM RxN API\n",
    "api_key=os.environ['IBM_API_KEY'] \n",
    "rxn4chemistry_wrapper = RXN4ChemistryWrapper(api_key=api_key)\n",
    "rxn4chemistry_wrapper.create_project('Test actions')"
   ]
  },
  {
   "cell_type": "code",
   "execution_count": null,
   "metadata": {},
   "outputs": [],
   "source": [
    "class Reaction(object):\n",
    "    \n",
    "    def __init__(self, targetsmiles):\n",
    "        self.smiles = targetsmiles\n",
    "    \n",
    "    def getRetroSyn(self):\n",
    "        # NB need to add method_id to function call via views and urls -\n",
    "        # see - https://stackoverflow.com/questions/59842406/how-to-pass-an-id-to-a-view-as-an-argument-in-django\n",
    "        \"\"\"\n",
    "        Use the IBM API to get some possible retrosynthesis routes\n",
    "        \"\"\"\n",
    "        # Create dummy dictionary to create while loop to catch when status is a SUCCESS\n",
    "        results = {}\n",
    "        results['status'] = None\n",
    "        reactions = None\n",
    "\n",
    "        while reactions is None:  \n",
    "            try:\n",
    "                time.sleep(30)\n",
    "                response = rxn4chemistry_wrapper.predict_automatic_retrosynthesis(product=self.smiles)\n",
    "                while results['status'] != 'SUCCESS': \n",
    "                    time.sleep(30)\n",
    "                    results = rxn4chemistry_wrapper.get_predict_automatic_retrosynthesis_results(response['prediction_id'])\n",
    "                    reactions = results\n",
    "            except Exception as e:\n",
    "                print(e)\n",
    "\n",
    "        return reactions\n",
    "    \n",
    "    def saveImage(self):\n",
    "        # Function to upload product image\n",
    "\n",
    "    def createReactionModel(self):\n",
    "        # Function that takes in all the info and creates a reaction object\n",
    "\n",
    "        # Create Reaction object\n",
    "        reaction = Reaction()\n",
    "        # Need the method_id which is passed in as obj in argument\n",
    "        # Need to have uploaded svg image to productimages folder\n",
    "        method_obj = Method.objects.get(id=method_id)\n",
    "        reaction.method_id = method_obj\n",
    "        reaction.name = name\n",
    "        reaction.productsmiles = product_smiles\n",
    "        reaction.productimage = 'productimages/' + product_image_fn\n",
    "        reaction.productname = product_name\n",
    "        reaction.save()\n",
    "\n",
    "# def getRoboActions(reactions):\n",
    "#     # Each retrosynthetic path predicted has a unique sequence_id that can\n",
    "#     # be used to create a new synthesis\n",
    "#     response = rxn4chemistry_wrapper.create_synthesis_from_sequence(\n",
    "#         sequence_id=results['retrosynthetic_paths'][0]['sequence_id'])\n",
    "#     print(response['synthesis_id'])\n",
    "\n",
    "# # get the entire list of actions for the entire synthesis, as well as a tree representation\n",
    "# synthesis_tree, ordered_tree_nodes, ordered_list_of_actions = rxn4chemistry_wrapper.get_synthesis_plan(\n",
    "#     synthesis_id=response['synthesis_id']\n",
    "# )\n",
    "# for action in ordered_list_of_actions:\n",
    "#     print(action)"
   ]
  },
  {
   "cell_type": "code",
   "execution_count": null,
   "metadata": {},
   "outputs": [],
   "source": [
    "reactions = getRetroSyn('CC(C)C[C@H](NC(=O)OCc1ccccc1)C(=O)N[C@@H](CC1CCNC1=O)C(O)S(=O)(=O)O')"
   ]
  },
  {
   "cell_type": "code",
   "execution_count": null,
   "metadata": {},
   "outputs": [],
   "source": [
    "reactions['retrosynthetic_paths'][0]"
   ]
  },
  {
   "cell_type": "code",
   "execution_count": null,
   "metadata": {},
   "outputs": [],
   "source": [
    "reactions['retrosynthetic_paths'][0]['children']"
   ]
  },
  {
   "cell_type": "code",
   "execution_count": null,
   "metadata": {},
   "outputs": [],
   "source": [
    "# Each retrosynthetic path predicted has a unique sequence_id that can\n",
    "# be used to create a new synthesis\n",
    "response = rxn4chemistry_wrapper.create_synthesis_from_sequence(\n",
    "    sequence_id=reactions['retrosynthetic_paths'][0]['sequenceId'])\n",
    "print(response['synthesis_id'])\n",
    "\n",
    "# get the entire list of actions for the entire synthesis, as well as a tree representation\n",
    "synthesis_tree, ordered_tree_nodes, ordered_list_of_actions = rxn4chemistry_wrapper.get_synthesis_plan(\n",
    "    synthesis_id=response['synthesis_id'])\n",
    "for action in ordered_list_of_actions:\n",
    "    print(action)"
   ]
  },
  {
   "cell_type": "code",
   "execution_count": null,
   "metadata": {},
   "outputs": [],
   "source": [
    "# Need to convert names to smiles!\n",
    "# Use the awesome Cactus API - https://cactus.nci.nih.gov/\n",
    "\n",
    "from urllib.request import urlopen\n",
    "from urllib.parse import quote\n",
    "\n",
    "def CIRconvert(name):\n",
    "    try:\n",
    "        name_converted = quote(name)\n",
    "        url= 'https://cactus.nci.nih.gov/chemical/structure/' + name_converted + '/smiles'\n",
    "        ans = urlopen(url).read().decode('utf8')\n",
    "        return ans\n",
    "    except:\n",
    "        return 'Did not work'\n",
    "\n",
    "identifiers  = ['Z-Leu-OSu']\n",
    "\n",
    "for ids in identifiers :\n",
    "    print(ids, CIRconvert(ids))"
   ]
  },
  {
   "cell_type": "code",
   "execution_count": null,
   "metadata": {},
   "outputs": [],
   "source": []
  }
 ],
 "metadata": {
  "kernelspec": {
   "display_name": "Python 3",
   "language": "python",
   "name": "python3"
  },
  "language_info": {
   "codemirror_mode": {
    "name": "ipython",
    "version": 3
   },
   "file_extension": ".py",
   "mimetype": "text/x-python",
   "name": "python",
   "nbconvert_exporter": "python",
   "pygments_lexer": "ipython3",
   "version": "3.7.9"
  }
 },
 "nbformat": 4,
 "nbformat_minor": 2
}
